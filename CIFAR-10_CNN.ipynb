{
 "cells": [
  {
   "cell_type": "code",
   "execution_count": 10,
   "id": "79baba56-3562-41ef-8656-2e3706eae918",
   "metadata": {},
   "outputs": [],
   "source": [
    "import numpy as np\n",
    "from keras.datasets import cifar10 \n",
    "from sklearn.model_selection import train_test_split\n",
    "from sklearn.preprocessing import StandardScaler"
   ]
  },
  {
   "cell_type": "markdown",
   "id": "e769d941-316b-4ec8-bee8-fa8e26f0a0eb",
   "metadata": {},
   "source": [
    " The CIFAR-10 dataset consists of 60000 32x32 colour images in 10 classes, with 6000 images per class. There are 50000 training images and 10000 test images. Load the CIFAR-10 dataset"
   ]
  },
  {
   "cell_type": "code",
   "execution_count": 11,
   "id": "087a3dcd-436d-4fea-b80d-43c033920351",
   "metadata": {},
   "outputs": [
    {
     "name": "stdout",
     "output_type": "stream",
     "text": [
      "(60000, 32, 32, 3) (60000, 1)\n"
     ]
    }
   ],
   "source": [
    "(X_train, y_train), (X_test, y_test) = cifar10.load_data()\n",
    "# Normalize pixel values to be between 0 and 1\n",
    "X_train = X_train.astype('float32') / 255\n",
    "X_test = X_test.astype('float32') / 255\n",
    "\n",
    "data_x = np.concatenate((X_train, X_test))\n",
    "data_y = np.concatenate((y_train, y_test))\n",
    "\n",
    "print(data_x.shape, data_y.shape)"
   ]
  },
  {
   "cell_type": "markdown",
   "id": "98cfd904-5342-4131-9466-02c7d51ff605",
   "metadata": {},
   "source": [
    "We will split the dataset into 80% training, 10% validation, and 10% testing"
   ]
  },
  {
   "cell_type": "code",
   "execution_count": 22,
   "id": "007404b1-6e9c-476b-aed8-7ccbd6e1d858",
   "metadata": {},
   "outputs": [],
   "source": [
    "# Split data into train, validation, and test sets\n",
    "X_train, X_test, y_train, y_test = train_test_split(data_x, data_y, train_size=0.8)\n",
    "x_val, x_test, y_val, y_test = train_test_split(X_test, y_test, test_size=0.5)"
   ]
  },
  {
   "cell_type": "code",
   "execution_count": 23,
   "id": "9113fbd1-78c4-49c7-ad75-926ccca22d6f",
   "metadata": {},
   "outputs": [],
   "source": [
    "from tensorflow import keras\n",
    "# Normalize the data\n",
    "scaler = StandardScaler()\n",
    "x_train = scaler.fit_transform(X_train.reshape(-1, 3072)).reshape(-1, 32, 32, 3)\n",
    "x_val = scaler.transform(x_val.reshape(-1, 3072)).reshape(-1, 32, 32, 3)\n",
    "x_test = scaler.transform(x_test.reshape(-1, 3072)).reshape(-1, 32, 32, 3)\n",
    "\n",
    "num_classes = len(np.unique(y_train))\n",
    "y_train = keras.utils.to_categorical(y_train, num_classes)\n",
    "y_val = keras.utils.to_categorical(y_val, num_classes)\n",
    "y_test = keras.utils.to_categorical(y_test, num_classes)"
   ]
  },
  {
   "cell_type": "markdown",
   "id": "077b802c-0a7a-4178-9cc0-f5f30be4e750",
   "metadata": {},
   "source": [
    "### **KNN Classifier**"
   ]
  },
  {
   "cell_type": "code",
   "execution_count": 25,
   "id": "99b60fb0-ff1c-4d60-951a-f73d5e5322f5",
   "metadata": {},
   "outputs": [
    {
     "data": {
      "text/html": [
       "<style>#sk-container-id-3 {color: black;background-color: white;}#sk-container-id-3 pre{padding: 0;}#sk-container-id-3 div.sk-toggleable {background-color: white;}#sk-container-id-3 label.sk-toggleable__label {cursor: pointer;display: block;width: 100%;margin-bottom: 0;padding: 0.3em;box-sizing: border-box;text-align: center;}#sk-container-id-3 label.sk-toggleable__label-arrow:before {content: \"▸\";float: left;margin-right: 0.25em;color: #696969;}#sk-container-id-3 label.sk-toggleable__label-arrow:hover:before {color: black;}#sk-container-id-3 div.sk-estimator:hover label.sk-toggleable__label-arrow:before {color: black;}#sk-container-id-3 div.sk-toggleable__content {max-height: 0;max-width: 0;overflow: hidden;text-align: left;background-color: #f0f8ff;}#sk-container-id-3 div.sk-toggleable__content pre {margin: 0.2em;color: black;border-radius: 0.25em;background-color: #f0f8ff;}#sk-container-id-3 input.sk-toggleable__control:checked~div.sk-toggleable__content {max-height: 200px;max-width: 100%;overflow: auto;}#sk-container-id-3 input.sk-toggleable__control:checked~label.sk-toggleable__label-arrow:before {content: \"▾\";}#sk-container-id-3 div.sk-estimator input.sk-toggleable__control:checked~label.sk-toggleable__label {background-color: #d4ebff;}#sk-container-id-3 div.sk-label input.sk-toggleable__control:checked~label.sk-toggleable__label {background-color: #d4ebff;}#sk-container-id-3 input.sk-hidden--visually {border: 0;clip: rect(1px 1px 1px 1px);clip: rect(1px, 1px, 1px, 1px);height: 1px;margin: -1px;overflow: hidden;padding: 0;position: absolute;width: 1px;}#sk-container-id-3 div.sk-estimator {font-family: monospace;background-color: #f0f8ff;border: 1px dotted black;border-radius: 0.25em;box-sizing: border-box;margin-bottom: 0.5em;}#sk-container-id-3 div.sk-estimator:hover {background-color: #d4ebff;}#sk-container-id-3 div.sk-parallel-item::after {content: \"\";width: 100%;border-bottom: 1px solid gray;flex-grow: 1;}#sk-container-id-3 div.sk-label:hover label.sk-toggleable__label {background-color: #d4ebff;}#sk-container-id-3 div.sk-serial::before {content: \"\";position: absolute;border-left: 1px solid gray;box-sizing: border-box;top: 0;bottom: 0;left: 50%;z-index: 0;}#sk-container-id-3 div.sk-serial {display: flex;flex-direction: column;align-items: center;background-color: white;padding-right: 0.2em;padding-left: 0.2em;position: relative;}#sk-container-id-3 div.sk-item {position: relative;z-index: 1;}#sk-container-id-3 div.sk-parallel {display: flex;align-items: stretch;justify-content: center;background-color: white;position: relative;}#sk-container-id-3 div.sk-item::before, #sk-container-id-3 div.sk-parallel-item::before {content: \"\";position: absolute;border-left: 1px solid gray;box-sizing: border-box;top: 0;bottom: 0;left: 50%;z-index: -1;}#sk-container-id-3 div.sk-parallel-item {display: flex;flex-direction: column;z-index: 1;position: relative;background-color: white;}#sk-container-id-3 div.sk-parallel-item:first-child::after {align-self: flex-end;width: 50%;}#sk-container-id-3 div.sk-parallel-item:last-child::after {align-self: flex-start;width: 50%;}#sk-container-id-3 div.sk-parallel-item:only-child::after {width: 0;}#sk-container-id-3 div.sk-dashed-wrapped {border: 1px dashed gray;margin: 0 0.4em 0.5em 0.4em;box-sizing: border-box;padding-bottom: 0.4em;background-color: white;}#sk-container-id-3 div.sk-label label {font-family: monospace;font-weight: bold;display: inline-block;line-height: 1.2em;}#sk-container-id-3 div.sk-label-container {text-align: center;}#sk-container-id-3 div.sk-container {/* jupyter's `normalize.less` sets `[hidden] { display: none; }` but bootstrap.min.css set `[hidden] { display: none !important; }` so we also need the `!important` here to be able to override the default hidden behavior on the sphinx rendered scikit-learn.org. See: https://github.com/scikit-learn/scikit-learn/issues/21755 */display: inline-block !important;position: relative;}#sk-container-id-3 div.sk-text-repr-fallback {display: none;}</style><div id=\"sk-container-id-3\" class=\"sk-top-container\"><div class=\"sk-text-repr-fallback\"><pre>KNeighborsClassifier(weights=&#x27;distance&#x27;)</pre><b>In a Jupyter environment, please rerun this cell to show the HTML representation or trust the notebook. <br />On GitHub, the HTML representation is unable to render, please try loading this page with nbviewer.org.</b></div><div class=\"sk-container\" hidden><div class=\"sk-item\"><div class=\"sk-estimator sk-toggleable\"><input class=\"sk-toggleable__control sk-hidden--visually\" id=\"sk-estimator-id-3\" type=\"checkbox\" checked><label for=\"sk-estimator-id-3\" class=\"sk-toggleable__label sk-toggleable__label-arrow\">KNeighborsClassifier</label><div class=\"sk-toggleable__content\"><pre>KNeighborsClassifier(weights=&#x27;distance&#x27;)</pre></div></div></div></div></div>"
      ],
      "text/plain": [
       "KNeighborsClassifier(weights='distance')"
      ]
     },
     "execution_count": 25,
     "metadata": {},
     "output_type": "execute_result"
    }
   ],
   "source": [
    "from sklearn.neighbors import KNeighborsClassifier\n",
    "\n",
    "knn = KNeighborsClassifier(n_neighbors=5, weights='distance')\n",
    "knn.fit(x_train.reshape(len(x_train), -1),y_train.argmax(axis=1))"
   ]
  },
  {
   "cell_type": "code",
   "execution_count": 26,
   "id": "f9a58f25-a87d-42c8-8e71-342abe7b71cc",
   "metadata": {},
   "outputs": [],
   "source": [
    "from sklearn.metrics import accuracy_score, precision_score, recall_score, classification_report, roc_curve, roc_auc_score"
   ]
  },
  {
   "cell_type": "markdown",
   "id": "f9c498de-0c41-4908-8c2e-61af35ae511a",
   "metadata": {},
   "source": [
    "KNN Model Accuracy, Loss and Confusion Matrix"
   ]
  },
  {
   "cell_type": "code",
   "execution_count": 30,
   "id": "ffb66e1a-f51a-488f-a93d-92f9915c61de",
   "metadata": {},
   "outputs": [
    {
     "name": "stdout",
     "output_type": "stream",
     "text": [
      "KNN Val Acc: 0.356\n",
      "KNN Test Acc: 0.350\n"
     ]
    }
   ],
   "source": [
    "# Evaluate KNN model\n",
    "knn_val_acc = accuracy_score(y_val.argmax(axis=1), knn.predict(x_val.reshape(len(x_val), -1)))\n",
    "knn_test_acc = accuracy_score(y_test.argmax(axis=1), knn.predict(x_test.reshape(len(x_test), -1))\n",
    "\n",
    "print(\"KNN Val Acc: {:.3f}\".format(knn_val_acc))\n",
    "print(\"KNN Test Acc: {:.3f}\".format(knn_test_acc))"
   ]
  },
  {
   "cell_type": "markdown",
   "id": "f610d7e5-14ee-4d98-a727-f6be576a75f2",
   "metadata": {},
   "source": [
    "Recall and Precision"
   ]
  },
  {
   "cell_type": "code",
   "execution_count": 28,
   "id": "5debd886-8c49-4dc7-8507-da0e2f865b37",
   "metadata": {},
   "outputs": [
    {
     "name": "stdout",
     "output_type": "stream",
     "text": [
      "KNN Precision: 0.430\n",
      "KNN Recall: 0.350\n"
     ]
    }
   ],
   "source": [
    "knn_precision = precision_score(y_test.argmax(axis=1), knn.predict(x_test.reshape(len(x_test), -1)), average='weighted')\n",
    "knn_recall = recall_score(y_test.argmax(axis=1), knn.predict(x_test.reshape(len(x_test), -1)), average='weighted')\n",
    "\n",
    "print(\"KNN Precision: {:.3f}\".format(knn_precision))\n",
    "print(\"KNN Recall: {:.3f}\".format(knn_recall))"
   ]
  },
  {
   "cell_type": "code",
   "execution_count": 29,
   "id": "ff8b7fa7-8ce6-47b6-9eb3-10d29505bf2a",
   "metadata": {},
   "outputs": [
    {
     "name": "stdout",
     "output_type": "stream",
     "text": [
      "              precision    recall  f1-score   support\n",
      "\n",
      "           0       0.42      0.46      0.44       582\n",
      "           1       0.66      0.18      0.28       596\n",
      "           2       0.28      0.40      0.33       608\n",
      "           3       0.31      0.25      0.27       638\n",
      "           4       0.25      0.52      0.33       608\n",
      "           5       0.39      0.25      0.30       604\n",
      "           6       0.32      0.34      0.33       606\n",
      "           7       0.67      0.27      0.39       595\n",
      "           8       0.35      0.71      0.46       552\n",
      "           9       0.67      0.17      0.27       611\n",
      "\n",
      "    accuracy                           0.35      6000\n",
      "   macro avg       0.43      0.35      0.34      6000\n",
      "weighted avg       0.43      0.35      0.34      6000\n",
      "\n"
     ]
    }
   ],
   "source": [
    "print(classification_report(y_test.argmax(axis=1), knn.predict(x_test.reshape(len(x_test), -1))))"
   ]
  }
 ],
 "metadata": {
  "kernelspec": {
   "display_name": "Python 3 (ipykernel)",
   "language": "python",
   "name": "python3"
  },
  "language_info": {
   "codemirror_mode": {
    "name": "ipython",
    "version": 3
   },
   "file_extension": ".py",
   "mimetype": "text/x-python",
   "name": "python",
   "nbconvert_exporter": "python",
   "pygments_lexer": "ipython3",
   "version": "3.11.5"
  }
 },
 "nbformat": 4,
 "nbformat_minor": 5
}
